{
  "nbformat": 4,
  "nbformat_minor": 0,
  "metadata": {
    "colab": {
      "provenance": [],
      "authorship_tag": "ABX9TyMKzYQKCB2zvaOotKwAgeMl",
      "include_colab_link": true
    },
    "kernelspec": {
      "name": "python3",
      "display_name": "Python 3"
    },
    "language_info": {
      "name": "python"
    }
  },
  "cells": [
    {
      "cell_type": "markdown",
      "metadata": {
        "id": "view-in-github",
        "colab_type": "text"
      },
      "source": [
        "<a href=\"https://colab.research.google.com/github/OlgaHumphreys/goit-algo-hw-06/blob/main/goit_algo_hw_o6.ipynb\" target=\"_parent\"><img src=\"https://colab.research.google.com/assets/colab-badge.svg\" alt=\"Open In Colab\"/></a>"
      ]
    },
    {
      "cell_type": "markdown",
      "source": [
        "Завдання 1\n",
        "\n",
        "Створіть граф за допомогою бібліотеки networkX для моделювання певної реальної мережі (наприклад, транспортної мережі міста, соціальної мережі, інтернет-топології).\n",
        "\n",
        "INFO\n",
        "\n",
        "📖 Реальну мережу можна вибрати на свій розсуд, якщо немає можливості придумати свою мережу, наближену до реальності.\n",
        "Візуалізуйте створений граф, проведіть аналіз основних характеристик (наприклад, кількість вершин та ребер, ступінь вершин)."
      ],
      "metadata": {
        "id": "nxBwTXlGucvV"
      }
    },
    {
      "cell_type": "code",
      "execution_count": null,
      "metadata": {
        "id": "oNLQQeoHuO7J"
      },
      "outputs": [],
      "source": [
        "import networkx as nx\n",
        "import matplotlib.pyplot as plt\n",
        "\n",
        "G = nx.Graph()\n",
        "\n",
        "# Add vertices\n",
        "intersections = ['A', 'B', 'C', 'D', 'E', 'F', 'G', 'H']\n",
        "G.add_nodes_from(intersections)\n",
        "\n",
        "# add edges (roads)\n",
        "roads = [('A', 'B'), ('A', 'C'), ('B', 'D'), ('C', 'D'),\n",
        "         ('C', 'E'), ('E', 'F'), ('E', 'G'), ('F', 'H'), ('G', 'H')]\n",
        "G.add_edges_from(roads)\n",
        "\n",
        "# Graph visualisation\n",
        "pos = nx.spring_layout(G)  # Position of vertices\n",
        "nx.draw(G, pos, with_labels=True, node_size=700, node_color='skyblue', font_size=14, font_weight='bold')\n",
        "plt.title(\"Transport Network of a City\")\n",
        "plt.show()\n",
        "\n",
        "# Analysis of the main characteristics\n",
        "num_nodes = G.number_of_nodes()\n",
        "num_edges = G.number_of_edges()\n",
        "degree = dict(G.degree())\n",
        "\n",
        "print(f\"Number of nodes (vertices): {num_nodes}\")\n",
        "print(f\"Number of edges: {num_edges}\")\n",
        "print(\"Degree of each node:\")\n",
        "for node, deg in degree.items():\n",
        "    print(f\"Node {node}: {deg}\")\n"
      ]
    },
    {
      "cell_type": "markdown",
      "source": [
        "Завдання 2\n",
        "\n",
        "Напишіть програму, яка використовує алгоритми DFS і BFS для знаходження шляхів у графі, який було розроблено у першому завданні.\n",
        "\n",
        "Далі порівняйте результати виконання обох алгоритмів для цього графа, висвітлить різницю в отриманих шляхах. Поясніть, чому шляхи для алгоритмів саме такі.\n",
        "\n"
      ],
      "metadata": {
        "id": "330BRwwZxAWV"
      }
    },
    {
      "cell_type": "code",
      "source": [
        "import networkx as nx\n",
        "import matplotlib.pyplot as plt\n",
        "\n",
        "G = nx.Graph()\n",
        "\n",
        "intersections = ['A', 'B', 'C', 'D', 'E', 'F', 'G', 'H']\n",
        "G.add_nodes_from(intersections)\n",
        "\n",
        "\n",
        "roads = [('A', 'B'), ('A', 'C'), ('B', 'D'), ('C', 'D'),\n",
        "         ('C', 'E'), ('E', 'F'), ('E', 'G'), ('F', 'H'), ('G', 'H')]\n",
        "G.add_edges_from(roads)\n"
      ],
      "metadata": {
        "id": "we3y0r0nxCKb"
      },
      "execution_count": null,
      "outputs": []
    },
    {
      "cell_type": "markdown",
      "source": [
        "Алгоритм DFS"
      ],
      "metadata": {
        "id": "ogJfXG0AxdNq"
      }
    },
    {
      "cell_type": "code",
      "source": [
        "def dfs(graph, start, goal, path=None):\n",
        "    if path is None:\n",
        "        path = []\n",
        "    path = path + [start]\n",
        "\n",
        "    if start == goal:\n",
        "        return path\n",
        "\n",
        "    for node in graph[start]:\n",
        "        if node not in path:\n",
        "            new_path = dfs(graph, node, goal, path)\n",
        "            if new_path:\n",
        "                return new_path\n",
        "    return None\n"
      ],
      "metadata": {
        "id": "7fmvV_7wxk7I"
      },
      "execution_count": null,
      "outputs": []
    },
    {
      "cell_type": "markdown",
      "source": [
        "Алгоритм BFS"
      ],
      "metadata": {
        "id": "VpHNKY5Hxojs"
      }
    },
    {
      "cell_type": "code",
      "source": [
        "from collections import deque\n",
        "\n",
        "def bfs(graph, start, goal):\n",
        "    queue = deque([[start]])\n",
        "    visited = set()\n",
        "\n",
        "    while queue:\n",
        "        path = queue.popleft()\n",
        "        node = path[-1]\n",
        "\n",
        "        if node in visited:\n",
        "            continue\n",
        "\n",
        "        for neighbour in graph[node]:\n",
        "            new_path = list(path)\n",
        "            new_path.append(neighbour)\n",
        "            queue.append(new_path)\n",
        "\n",
        "            if neighbour == goal:\n",
        "                return new_path\n",
        "\n",
        "        visited.add(node)\n",
        "\n",
        "    return None\n"
      ],
      "metadata": {
        "id": "aPfbRtcGxsw8"
      },
      "execution_count": null,
      "outputs": []
    },
    {
      "cell_type": "markdown",
      "source": [
        "Використання алгоритмів для знаходження шляхів"
      ],
      "metadata": {
        "id": "dQOeITxhxxzm"
      }
    },
    {
      "cell_type": "code",
      "source": [
        "# Graph conversion\n",
        "graph = nx.to_dict_of_lists(G)\n",
        "\n",
        "# Path finding\n",
        "dfs_path = dfs(graph, 'A', 'H')\n",
        "print(f\"DFS path from 'A' to 'H': {dfs_path}\")\n",
        "\n",
        "# Path finding\n",
        "bfs_path = bfs(graph, 'A', 'H')\n",
        "print(f\"BFS path from 'A' to 'H': {bfs_path}\")\n"
      ],
      "metadata": {
        "id": "z7ffwVUyx4Ya"
      },
      "execution_count": null,
      "outputs": []
    },
    {
      "cell_type": "markdown",
      "source": [
        "Comparison of results:\n",
        "DFS path: can be longer and less intuitive because DFS goes as deep\n",
        "as each branch before moving on the next node.\n",
        "BFS path: the shortest path that will often be more intuitive,\n",
        "as BFS explores all possibilities at one level before moving to the next.\n",
        "\n",
        "Conclusion: The difference in the paths is explained by the principle of operation of the algorithms. DFS drills down to its maximum depth before moving to another branch, while BFS explores the nodes level by level, guaranteeing to find the shortest path in the graph."
      ],
      "metadata": {
        "id": "Fzc_rcLcyt2n"
      }
    },
    {
      "cell_type": "markdown",
      "source": [
        "Завдання 3\n",
        "\n",
        "Реалізуйте алгоритм Дейкстри для знаходження найкоротшого шляху в розробленому графі: додайте у граф ваги до ребер та знайдіть найкоротший шлях між всіма вершинами графа.\n",
        "\n"
      ],
      "metadata": {
        "id": "tOS2mB2_0u2h"
      }
    },
    {
      "cell_type": "code",
      "source": [
        "import networkx as nx\n",
        "import matplotlib.pyplot as plt\n",
        "\n",
        "G = nx.Graph()\n",
        "\n",
        "intersections = ['A', 'B', 'C', 'D', 'E', 'F', 'G', 'H']\n",
        "G.add_nodes_from(intersections)\n",
        "\n",
        "roads = [\n",
        "    ('A', 'B', 4), ('A', 'C', 2), ('B', 'D', 5), ('C', 'D', 8),\n",
        "    ('C', 'E', 10), ('E', 'F', 2), ('E', 'G', 6), ('F', 'H', 3), ('G', 'H', 1)\n",
        "]\n",
        "G.add_weighted_edges_from(roads)\n",
        "\n",
        "#Graph's visualisation\n",
        "pos = nx.spring_layout(G)  # Vertices\n",
        "nx.draw(G, pos, with_labels=True, node_size=700, node_color='skyblue', font_size=14, font_weight='bold')\n",
        "labels = nx.get_edge_attributes(G, 'weight')\n",
        "nx.draw_networkx_edge_labels(G, pos, edge_labels=labels)\n",
        "plt.title(\"Transport Network with Weights\")\n",
        "plt.show()\n",
        "\n",
        "def dijkstra_all_pairs_shortest_paths(graph):\n",
        "    shortest_paths = {}\n",
        "    for node in graph.nodes:\n",
        "        shortest_paths[node] = nx.single_source_dijkstra_path(graph, node)\n",
        "    return shortest_paths\n",
        "\n",
        "# Find the shortest path\n",
        "shortest_paths = dijkstra_all_pairs_shortest_paths(G)\n",
        "\n",
        "# Results\n",
        "for source, paths in shortest_paths.items():\n",
        "    print(f\"Shortest paths from {source}:\")\n",
        "    for target, path in paths.items():\n",
        "        print(f\"  To {target}: {path}\")\n"
      ],
      "metadata": {
        "colab": {
          "base_uri": "https://localhost:8080/",
          "height": 1000
        },
        "id": "IIlUGsqt00XY",
        "outputId": "8cacb905-304b-42fd-b234-f56ce64fe93e"
      },
      "execution_count": 1,
      "outputs": [
        {
          "output_type": "display_data",
          "data": {
            "text/plain": [
              "<Figure size 640x480 with 1 Axes>"
            ],
            "image/png": "[encoded data removed]"
          },
          "metadata": {}
        },
        {
          "output_type": "stream",
          "name": "stdout",
          "text": [
            "Shortest paths from A:\n",
            "  To A: ['A']\n",
            "  To B: ['A', 'B']\n",
            "  To C: ['A', 'C']\n",
            "  To D: ['A', 'B', 'D']\n",
            "  To E: ['A', 'C', 'E']\n",
            "  To F: ['A', 'C', 'E', 'F']\n",
            "  To G: ['A', 'C', 'E', 'G']\n",
            "  To H: ['A', 'C', 'E', 'F', 'H']\n",
            "Shortest paths from B:\n",
            "  To B: ['B']\n",
            "  To A: ['B', 'A']\n",
            "  To D: ['B', 'D']\n",
            "  To C: ['B', 'A', 'C']\n",
            "  To E: ['B', 'A', 'C', 'E']\n",
            "  To F: ['B', 'A', 'C', 'E', 'F']\n",
            "  To G: ['B', 'A', 'C', 'E', 'G']\n",
            "  To H: ['B', 'A', 'C', 'E', 'F', 'H']\n",
            "Shortest paths from C:\n",
            "  To C: ['C']\n",
            "  To A: ['C', 'A']\n",
            "  To D: ['C', 'D']\n",
            "  To E: ['C', 'E']\n",
            "  To B: ['C', 'A', 'B']\n",
            "  To F: ['C', 'E', 'F']\n",
            "  To G: ['C', 'E', 'G']\n",
            "  To H: ['C', 'E', 'F', 'H']\n",
            "Shortest paths from D:\n",
            "  To D: ['D']\n",
            "  To B: ['D', 'B']\n",
            "  To C: ['D', 'C']\n",
            "  To A: ['D', 'B', 'A']\n",
            "  To E: ['D', 'C', 'E']\n",
            "  To F: ['D', 'C', 'E', 'F']\n",
            "  To G: ['D', 'C', 'E', 'G']\n",
            "  To H: ['D', 'C', 'E', 'F', 'H']\n",
            "Shortest paths from E:\n",
            "  To E: ['E']\n",
            "  To C: ['E', 'C']\n",
            "  To F: ['E', 'F']\n",
            "  To G: ['E', 'G']\n",
            "  To H: ['E', 'F', 'H']\n",
            "  To A: ['E', 'C', 'A']\n",
            "  To D: ['E', 'C', 'D']\n",
            "  To B: ['E', 'C', 'A', 'B']\n",
            "Shortest paths from F:\n",
            "  To F: ['F']\n",
            "  To E: ['F', 'E']\n",
            "  To H: ['F', 'H']\n",
            "  To C: ['F', 'E', 'C']\n",
            "  To G: ['F', 'H', 'G']\n",
            "  To A: ['F', 'E', 'C', 'A']\n",
            "  To D: ['F', 'E', 'C', 'D']\n",
            "  To B: ['F', 'E', 'C', 'A', 'B']\n",
            "Shortest paths from G:\n",
            "  To G: ['G']\n",
            "  To E: ['G', 'E']\n",
            "  To H: ['G', 'H']\n",
            "  To F: ['G', 'H', 'F']\n",
            "  To C: ['G', 'E', 'C']\n",
            "  To A: ['G', 'E', 'C', 'A']\n",
            "  To D: ['G', 'E', 'C', 'D']\n",
            "  To B: ['G', 'E', 'C', 'A', 'B']\n",
            "Shortest paths from H:\n",
            "  To H: ['H']\n",
            "  To F: ['H', 'F']\n",
            "  To G: ['H', 'G']\n",
            "  To E: ['H', 'F', 'E']\n",
            "  To C: ['H', 'F', 'E', 'C']\n",
            "  To A: ['H', 'F', 'E', 'C', 'A']\n",
            "  To D: ['H', 'F', 'E', 'C', 'D']\n",
            "  To B: ['H', 'F', 'E', 'C', 'A', 'B']\n"
          ]
        }
      ]
    }
  ]
}